{
 "cells": [
  {
   "cell_type": "code",
   "execution_count": 1,
   "metadata": {},
   "outputs": [],
   "source": [
    "import pymongo \n",
    "import fitz  # PyMuPDF\n",
    "import re\n",
    "from sklearn.feature_extraction.text import TfidfVectorizer # import sklearn\n",
    "# import nltk"
   ]
  },
  {
   "cell_type": "code",
   "execution_count": 2,
   "metadata": {},
   "outputs": [],
   "source": [
    "import os\n",
    "import re\n",
    "# from nltk.corpus import stopwords\n",
    "import nltk\n",
    "\n",
    "# nltk.download('stopwords')\n",
    "from nltk.corpus import stopwords\n",
    "from nltk.tokenize import word_tokenize\n",
    "from nltk.stem import WordNetLemmatizer\n",
    "from sklearn.feature_extraction.text import TfidfVectorizer\n",
    "from pdfminer.high_level import extract_text\n",
    "from collections import defaultdict\n",
    "import json\n",
    "import joblib"
   ]
  },
  {
   "cell_type": "code",
   "execution_count": 3,
   "metadata": {},
   "outputs": [
    {
     "name": "stderr",
     "output_type": "stream",
     "text": [
      "[nltk_data] Downloading package punkt_tab to\n",
      "[nltk_data]     C:\\Users\\Admin\\AppData\\Roaming\\nltk_data...\n",
      "[nltk_data]   Package punkt_tab is already up-to-date!\n",
      "[nltk_data] Downloading package wordnet to\n",
      "[nltk_data]     C:\\Users\\Admin\\AppData\\Roaming\\nltk_data...\n",
      "[nltk_data]   Package wordnet is already up-to-date!\n",
      "[nltk_data] Downloading package stopwords to\n",
      "[nltk_data]     C:\\Users\\Admin\\AppData\\Roaming\\nltk_data...\n",
      "[nltk_data]   Package stopwords is already up-to-date!\n"
     ]
    }
   ],
   "source": [
    "# !pip install pdfminer.six\n",
    "nltk.download('punkt_tab')\n",
    "nltk.download('wordnet')\n",
    "nltk.download('stopwords')\n",
    "from nltk.corpus import stopwords"
   ]
  },
  {
   "cell_type": "code",
   "execution_count": 4,
   "metadata": {},
   "outputs": [
    {
     "name": "stdout",
     "output_type": "stream",
     "text": [
      "Collection(Database(MongoClient(host=['cluster0-shard-00-00.cjzmm.mongodb.net:27017', 'cluster0-shard-00-02.cjzmm.mongodb.net:27017', 'cluster0-shard-00-01.cjzmm.mongodb.net:27017'], document_class=dict, tz_aware=False, connect=True, authsource='admin', replicaset='atlas-ogfiv4-shard-0', tls=True), 'sample_mflix'), 'news')\n"
     ]
    }
   ],
   "source": [
    "client = pymongo.MongoClient('mongodb+srv://triet:1@cluster0.cjzmm.mongodb.net/')\n",
    "db = client.sample_mflix\n",
    "collection = db.news\n",
    "print(collection)"
   ]
  },
  {
   "cell_type": "code",
   "execution_count": 5,
   "metadata": {},
   "outputs": [],
   "source": [
    "stop_words = set(stopwords.words('english'))\n",
    "lemmatizer = WordNetLemmatizer()\n",
    "vectorizer = TfidfVectorizer(max_features=5000)\n",
    "vectorizer = joblib.load('vectorizer.joblib')"
   ]
  },
  {
   "cell_type": "code",
   "execution_count": 11,
   "metadata": {},
   "outputs": [],
   "source": [
    "file_path = 'inverted_index_output_sorted.json'\n",
    "\n",
    "with open(file_path, 'r', encoding='utf-8') as f:\n",
    "    inverted_index = json.load(f)"
   ]
  },
  {
   "cell_type": "code",
   "execution_count": 12,
   "metadata": {},
   "outputs": [],
   "source": [
    "def preprocess_query(query):\n",
    "    \"\"\"Preprocess the query to match the terms used in the inverted index.\"\"\"\n",
    "    # Lowercase and remove special characters\n",
    "    query = query.lower()\n",
    "    query = re.sub(r'\\W+', ' ', query)\n",
    "    return query.split()\n",
    "\n",
    "def extract_keywords_from_query(query, vectorizer, inverted_index, num_results=10):\n",
    "    \"\"\"\n",
    "    Extract keywords from a query, search the inverted index, and return relevant documents.\n",
    "    \n",
    "    Parameters:\n",
    "        query (str): The user query.\n",
    "        vectorizer (TfidfVectorizer): The vectorizer used to build the inverted index.\n",
    "        inverted_index (dict): The inverted index containing keywords, document IDs, and scores.\n",
    "        num_results (int): Number of top results to return.\n",
    "    Returns:\n",
    "        List of relevant documents with scores.\n",
    "    \"\"\"\n",
    "    # Preprocess the query\n",
    "    processed_query = preprocess_query(query)\n",
    "    \n",
    "    # Vectorize the query to identify relevant keywords\n",
    "    query_vector = vectorizer.transform([' '.join(processed_query)]).toarray()[0]\n",
    "    feature_array = vectorizer.get_feature_names_out()\n",
    "    \n",
    "    # Extract keywords with non-zero TF-IDF scores\n",
    "    query_keywords = {feature_array[i]: query_vector[i] for i in range(len(feature_array)) if query_vector[i] > 0}\n",
    "    \n",
    "    # Search in the inverted index\n",
    "    results = defaultdict(float)\n",
    "    for keyword, score in query_keywords.items():\n",
    "        if keyword in inverted_index:\n",
    "            for doc_entry in inverted_index[keyword]:\n",
    "                doc_id = str(doc_entry['doc_id'])\n",
    "                results[doc_id] += score * doc_entry['score']  # Combine query and document scores\n",
    "\n",
    "    # Sort results by relevance\n",
    "    sorted_results = sorted(results.items(), key=lambda x: x[1], reverse=True)[:num_results]\n",
    "    \n",
    "    return sorted_results"
   ]
  },
  {
   "cell_type": "code",
   "execution_count": 8,
   "metadata": {},
   "outputs": [],
   "source": [
    "# import pickle\n",
    "# with open('vectorizer.pkl', 'rb') as vectorizer:\n",
    "#     pickle.load(vectorizer)  "
   ]
  },
  {
   "cell_type": "code",
   "execution_count": 13,
   "metadata": {},
   "outputs": [
    {
     "name": "stdout",
     "output_type": "stream",
     "text": [
      "Query Results:\n",
      "Document ID: 672c4842d2cd8acad1c138e9, Relevance Score: 0.3299\n",
      "Document ID: 672c4855d2cd8acad1c18b56, Relevance Score: 0.3081\n",
      "Document ID: 672c481ad2cd8acad1c08d88, Relevance Score: 0.2949\n",
      "Document ID: 672c480fd2cd8acad1c05649, Relevance Score: 0.2820\n",
      "Document ID: 672c4839d2cd8acad1c111d0, Relevance Score: 0.2549\n"
     ]
    }
   ],
   "source": [
    "query = \"artificial intelligence and deep learning\"\n",
    "\n",
    "# with open('vectorizer.pkl', 'rb') as f:\n",
    "#     pickle.load(vectorizer, f)  \n",
    "    \n",
    "results = extract_keywords_from_query(query, vectorizer, inverted_index, num_results=5)\n",
    "\n",
    "# Display results\n",
    "print(\"Query Results:\")\n",
    "for doc_id, score in results:\n",
    "    print(f\"Document ID: {doc_id}, Relevance Score: {score:.4f}\")"
   ]
  }
 ],
 "metadata": {
  "kernelspec": {
   "display_name": "Python 3",
   "language": "python",
   "name": "python3"
  },
  "language_info": {
   "codemirror_mode": {
    "name": "ipython",
    "version": 3
   },
   "file_extension": ".py",
   "mimetype": "text/x-python",
   "name": "python",
   "nbconvert_exporter": "python",
   "pygments_lexer": "ipython3",
   "version": "3.11.5"
  }
 },
 "nbformat": 4,
 "nbformat_minor": 2
}
